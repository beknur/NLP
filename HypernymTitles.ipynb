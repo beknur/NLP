{
  "nbformat": 4,
  "nbformat_minor": 0,
  "metadata": {
    "kernelspec": {
      "display_name": "Python 3",
      "language": "python",
      "name": "python3"
    },
    "language_info": {
      "codemirror_mode": {
        "name": "ipython",
        "version": 3
      },
      "file_extension": ".py",
      "mimetype": "text/x-python",
      "name": "python",
      "nbconvert_exporter": "python",
      "pygments_lexer": "ipython3",
      "version": "3.7.7"
    },
    "colab": {
      "name": "HypernymTitles.ipynb",
      "provenance": [],
      "collapsed_sections": [],
      "toc_visible": true,
      "include_colab_link": true
    },
    "widgets": {
      "application/vnd.jupyter.widget-state+json": {
        "4b57f60d383646efbf764261a9802380": {
          "model_module": "@jupyter-widgets/controls",
          "model_name": "VBoxModel",
          "state": {
            "_view_name": "VBoxView",
            "_dom_classes": [
              "widget-interact"
            ],
            "_model_name": "VBoxModel",
            "_view_module": "@jupyter-widgets/controls",
            "_model_module_version": "1.5.0",
            "_view_count": null,
            "_view_module_version": "1.5.0",
            "box_style": "",
            "layout": "IPY_MODEL_1752d02a761c4d07ba850c4f5bbe1321",
            "_model_module": "@jupyter-widgets/controls",
            "children": [
              "IPY_MODEL_ffd7cfa9662047aba95218945b591dfb",
              "IPY_MODEL_d6c2f8cbd8ed4a8b9afa8c83a7d7893f"
            ]
          }
        },
        "1752d02a761c4d07ba850c4f5bbe1321": {
          "model_module": "@jupyter-widgets/base",
          "model_name": "LayoutModel",
          "state": {
            "_view_name": "LayoutView",
            "grid_template_rows": null,
            "right": null,
            "justify_content": null,
            "_view_module": "@jupyter-widgets/base",
            "overflow": null,
            "_model_module_version": "1.2.0",
            "_view_count": null,
            "flex_flow": null,
            "width": null,
            "min_width": null,
            "border": null,
            "align_items": null,
            "bottom": null,
            "_model_module": "@jupyter-widgets/base",
            "top": null,
            "grid_column": null,
            "overflow_y": null,
            "overflow_x": null,
            "grid_auto_flow": null,
            "grid_area": null,
            "grid_template_columns": null,
            "flex": null,
            "_model_name": "LayoutModel",
            "justify_items": null,
            "grid_row": null,
            "max_height": null,
            "align_content": null,
            "visibility": null,
            "align_self": null,
            "height": null,
            "min_height": null,
            "padding": null,
            "grid_auto_rows": null,
            "grid_gap": null,
            "max_width": null,
            "order": null,
            "_view_module_version": "1.2.0",
            "grid_template_areas": null,
            "object_position": null,
            "object_fit": null,
            "grid_auto_columns": null,
            "margin": null,
            "display": null,
            "left": null
          }
        },
        "ffd7cfa9662047aba95218945b591dfb": {
          "model_module": "@jupyter-widgets/controls",
          "model_name": "IntSliderModel",
          "state": {
            "_view_name": "IntSliderView",
            "style": "IPY_MODEL_828f2b59ece94474885fef2f549dca10",
            "_dom_classes": [],
            "description": "ind",
            "step": 1,
            "_model_name": "IntSliderModel",
            "orientation": "horizontal",
            "max": 995,
            "_view_module": "@jupyter-widgets/controls",
            "_model_module_version": "1.5.0",
            "value": 0,
            "_view_count": null,
            "disabled": false,
            "_view_module_version": "1.5.0",
            "min": 0,
            "continuous_update": true,
            "readout_format": "d",
            "description_tooltip": null,
            "readout": true,
            "_model_module": "@jupyter-widgets/controls",
            "layout": "IPY_MODEL_85ae50ad153d4ffe9cce00d9f594e6e7"
          }
        },
        "d6c2f8cbd8ed4a8b9afa8c83a7d7893f": {
          "model_module": "@jupyter-widgets/output",
          "model_name": "OutputModel",
          "state": {
            "_view_name": "OutputView",
            "msg_id": "",
            "_dom_classes": [],
            "_model_name": "OutputModel",
            "outputs": [
              {
                "output_type": "stream",
                "metadata": {
                  "tags": []
                },
                "text": "much card deck well shuffled\n[   ('logical', 'concurrency', 'control', 'sequential', 'proofs'),\n    (   'distributed',\n        'control',\n        'game',\n        'design',\n        'strategic',\n        'agents',\n        'programmable',\n        'machines'),\n    (   'efficient',\n        'information',\n        'aggregation',\n        'strategies',\n        'distributed',\n        'control',\n        'signal',\n        'processing'),\n    ('wireless', 'link', 'scheduling', 'flow', 'control'),\n    ('stability', 'control', 'functional', 'differential', 'equations'),\n    ('decoherence', 'control', 'symmetry', 'quantum', 'computers'),\n    ('fourier', 'transform', 'approach', 'quantum', 'error', 'control'),\n    ('convex', 'programming', 'optimal', 'control', 'information', 'theory'),\n    (   'computational',\n        'methods',\n        'fractional',\n        'calculus',\n        'variations',\n        'optimal',\n        'control'),\n    ('coloring', 'games', 'algebraic', 'problems', 'matroids')]\n",
                "stream": "stdout"
              }
            ],
            "_view_module": "@jupyter-widgets/output",
            "_model_module_version": "1.0.0",
            "_view_count": null,
            "_view_module_version": "1.0.0",
            "layout": "IPY_MODEL_8e37e4a46a5f44ca937e5e343ed97ed2",
            "_model_module": "@jupyter-widgets/output"
          }
        },
        "828f2b59ece94474885fef2f549dca10": {
          "model_module": "@jupyter-widgets/controls",
          "model_name": "SliderStyleModel",
          "state": {
            "_view_name": "StyleView",
            "handle_color": null,
            "_model_name": "SliderStyleModel",
            "description_width": "",
            "_view_module": "@jupyter-widgets/base",
            "_model_module_version": "1.5.0",
            "_view_count": null,
            "_view_module_version": "1.2.0",
            "_model_module": "@jupyter-widgets/controls"
          }
        },
        "85ae50ad153d4ffe9cce00d9f594e6e7": {
          "model_module": "@jupyter-widgets/base",
          "model_name": "LayoutModel",
          "state": {
            "_view_name": "LayoutView",
            "grid_template_rows": null,
            "right": null,
            "justify_content": null,
            "_view_module": "@jupyter-widgets/base",
            "overflow": null,
            "_model_module_version": "1.2.0",
            "_view_count": null,
            "flex_flow": null,
            "width": null,
            "min_width": null,
            "border": null,
            "align_items": null,
            "bottom": null,
            "_model_module": "@jupyter-widgets/base",
            "top": null,
            "grid_column": null,
            "overflow_y": null,
            "overflow_x": null,
            "grid_auto_flow": null,
            "grid_area": null,
            "grid_template_columns": null,
            "flex": null,
            "_model_name": "LayoutModel",
            "justify_items": null,
            "grid_row": null,
            "max_height": null,
            "align_content": null,
            "visibility": null,
            "align_self": null,
            "height": null,
            "min_height": null,
            "padding": null,
            "grid_auto_rows": null,
            "grid_gap": null,
            "max_width": null,
            "order": null,
            "_view_module_version": "1.2.0",
            "grid_template_areas": null,
            "object_position": null,
            "object_fit": null,
            "grid_auto_columns": null,
            "margin": null,
            "display": null,
            "left": null
          }
        },
        "8e37e4a46a5f44ca937e5e343ed97ed2": {
          "model_module": "@jupyter-widgets/base",
          "model_name": "LayoutModel",
          "state": {
            "_view_name": "LayoutView",
            "grid_template_rows": null,
            "right": null,
            "justify_content": null,
            "_view_module": "@jupyter-widgets/base",
            "overflow": null,
            "_model_module_version": "1.2.0",
            "_view_count": null,
            "flex_flow": null,
            "width": null,
            "min_width": null,
            "border": null,
            "align_items": null,
            "bottom": null,
            "_model_module": "@jupyter-widgets/base",
            "top": null,
            "grid_column": null,
            "overflow_y": null,
            "overflow_x": null,
            "grid_auto_flow": null,
            "grid_area": null,
            "grid_template_columns": null,
            "flex": null,
            "_model_name": "LayoutModel",
            "justify_items": null,
            "grid_row": null,
            "max_height": null,
            "align_content": null,
            "visibility": null,
            "align_self": null,
            "height": null,
            "min_height": null,
            "padding": null,
            "grid_auto_rows": null,
            "grid_gap": null,
            "max_width": null,
            "order": null,
            "_view_module_version": "1.2.0",
            "grid_template_areas": null,
            "object_position": null,
            "object_fit": null,
            "grid_auto_columns": null,
            "margin": null,
            "display": null,
            "left": null
          }
        },
        "b5300faa35b6491595ebe580637e9c6d": {
          "model_module": "@jupyter-widgets/controls",
          "model_name": "VBoxModel",
          "state": {
            "_view_name": "VBoxView",
            "_dom_classes": [
              "widget-interact"
            ],
            "_model_name": "VBoxModel",
            "_view_module": "@jupyter-widgets/controls",
            "_model_module_version": "1.5.0",
            "_view_count": null,
            "_view_module_version": "1.5.0",
            "box_style": "",
            "layout": "IPY_MODEL_b73dc1b06311407b8f0dd6acc4b00160",
            "_model_module": "@jupyter-widgets/controls",
            "children": [
              "IPY_MODEL_d6eea0e069fd4cc199560873cd4fa27d",
              "IPY_MODEL_64a612e8b8c64a9586575d1b71ed7e18"
            ]
          }
        },
        "b73dc1b06311407b8f0dd6acc4b00160": {
          "model_module": "@jupyter-widgets/base",
          "model_name": "LayoutModel",
          "state": {
            "_view_name": "LayoutView",
            "grid_template_rows": null,
            "right": null,
            "justify_content": null,
            "_view_module": "@jupyter-widgets/base",
            "overflow": null,
            "_model_module_version": "1.2.0",
            "_view_count": null,
            "flex_flow": null,
            "width": null,
            "min_width": null,
            "border": null,
            "align_items": null,
            "bottom": null,
            "_model_module": "@jupyter-widgets/base",
            "top": null,
            "grid_column": null,
            "overflow_y": null,
            "overflow_x": null,
            "grid_auto_flow": null,
            "grid_area": null,
            "grid_template_columns": null,
            "flex": null,
            "_model_name": "LayoutModel",
            "justify_items": null,
            "grid_row": null,
            "max_height": null,
            "align_content": null,
            "visibility": null,
            "align_self": null,
            "height": null,
            "min_height": null,
            "padding": null,
            "grid_auto_rows": null,
            "grid_gap": null,
            "max_width": null,
            "order": null,
            "_view_module_version": "1.2.0",
            "grid_template_areas": null,
            "object_position": null,
            "object_fit": null,
            "grid_auto_columns": null,
            "margin": null,
            "display": null,
            "left": null
          }
        },
        "d6eea0e069fd4cc199560873cd4fa27d": {
          "model_module": "@jupyter-widgets/controls",
          "model_name": "IntSliderModel",
          "state": {
            "_view_name": "IntSliderView",
            "style": "IPY_MODEL_373bc8f825ca43e3a97fe03d83b345e3",
            "_dom_classes": [],
            "description": "ind",
            "step": 1,
            "_model_name": "IntSliderModel",
            "orientation": "horizontal",
            "max": 995,
            "_view_module": "@jupyter-widgets/controls",
            "_model_module_version": "1.5.0",
            "value": 0,
            "_view_count": null,
            "disabled": false,
            "_view_module_version": "1.5.0",
            "min": 0,
            "continuous_update": true,
            "readout_format": "d",
            "description_tooltip": null,
            "readout": true,
            "_model_module": "@jupyter-widgets/controls",
            "layout": "IPY_MODEL_eea4491a54c54172aced178482d5cd15"
          }
        },
        "64a612e8b8c64a9586575d1b71ed7e18": {
          "model_module": "@jupyter-widgets/output",
          "model_name": "OutputModel",
          "state": {
            "_view_name": "OutputView",
            "msg_id": "",
            "_dom_classes": [],
            "_model_name": "OutputModel",
            "outputs": [
              {
                "output_type": "stream",
                "metadata": {
                  "tags": []
                },
                "text": "much card deck well shuffled\n{   'card': [   Synset('card.n.01'),\n                Synset('card.n.02'),\n                Synset('card.n.03'),\n                Synset('card.n.04'),\n                Synset('wag.n.01'),\n                Synset('poster.n.01'),\n                Synset('calling_card.n.02'),\n                Synset('card.n.08'),\n                Synset('menu.n.01'),\n                Synset('batting_order.n.01'),\n                Synset('circuit_board.n.01'),\n                Synset('tease.v.07'),\n                Synset('card.v.02')],\n    'deck': [   Synset('deck.n.01'),\n                Synset('deck.n.02'),\n                Synset('pack_of_cards.n.01'),\n                Synset('deck.n.04'),\n                Synset('deck.v.01'),\n                Synset('deck.v.02'),\n                Synset('deck.v.03')],\n    'much': [   Synset('much.n.01'),\n                Synset('much.a.01'),\n                Synset('much.r.01'),\n                Synset('much.r.02'),\n                Synset('a_lot.r.01'),\n                Synset('much.r.04'),\n                Synset('much.r.05')],\n    'shuffled': [   Synset('shuffle.v.01'),\n                    Synset('shuffle.v.02'),\n                    Synset('shuffle.v.03')],\n    'well': [   Synset('well.n.01'),\n                Synset('well.n.02'),\n                Synset('well.n.03'),\n                Synset('well.n.04'),\n                Synset('well.n.05'),\n                Synset('well.v.01'),\n                Synset('well.a.01'),\n                Synset('good.s.13'),\n                Synset('well.s.03'),\n                Synset('well.r.01'),\n                Synset('well.r.02'),\n                Synset('well.r.03'),\n                Synset('well.r.04'),\n                Synset('well.r.05'),\n                Synset('well.r.06'),\n                Synset('well.r.07'),\n                Synset('well.r.08'),\n                Synset('well.r.09'),\n                Synset('well.r.10'),\n                Synset('well.r.11'),\n                Synset('well.r.12'),\n                Synset('well.r.13')]}\n",
                "stream": "stdout"
              }
            ],
            "_view_module": "@jupyter-widgets/output",
            "_model_module_version": "1.0.0",
            "_view_count": null,
            "_view_module_version": "1.0.0",
            "layout": "IPY_MODEL_82a8530a6b8140d882309a45d9981e50",
            "_model_module": "@jupyter-widgets/output"
          }
        },
        "373bc8f825ca43e3a97fe03d83b345e3": {
          "model_module": "@jupyter-widgets/controls",
          "model_name": "SliderStyleModel",
          "state": {
            "_view_name": "StyleView",
            "handle_color": null,
            "_model_name": "SliderStyleModel",
            "description_width": "",
            "_view_module": "@jupyter-widgets/base",
            "_model_module_version": "1.5.0",
            "_view_count": null,
            "_view_module_version": "1.2.0",
            "_model_module": "@jupyter-widgets/controls"
          }
        },
        "eea4491a54c54172aced178482d5cd15": {
          "model_module": "@jupyter-widgets/base",
          "model_name": "LayoutModel",
          "state": {
            "_view_name": "LayoutView",
            "grid_template_rows": null,
            "right": null,
            "justify_content": null,
            "_view_module": "@jupyter-widgets/base",
            "overflow": null,
            "_model_module_version": "1.2.0",
            "_view_count": null,
            "flex_flow": null,
            "width": null,
            "min_width": null,
            "border": null,
            "align_items": null,
            "bottom": null,
            "_model_module": "@jupyter-widgets/base",
            "top": null,
            "grid_column": null,
            "overflow_y": null,
            "overflow_x": null,
            "grid_auto_flow": null,
            "grid_area": null,
            "grid_template_columns": null,
            "flex": null,
            "_model_name": "LayoutModel",
            "justify_items": null,
            "grid_row": null,
            "max_height": null,
            "align_content": null,
            "visibility": null,
            "align_self": null,
            "height": null,
            "min_height": null,
            "padding": null,
            "grid_auto_rows": null,
            "grid_gap": null,
            "max_width": null,
            "order": null,
            "_view_module_version": "1.2.0",
            "grid_template_areas": null,
            "object_position": null,
            "object_fit": null,
            "grid_auto_columns": null,
            "margin": null,
            "display": null,
            "left": null
          }
        },
        "82a8530a6b8140d882309a45d9981e50": {
          "model_module": "@jupyter-widgets/base",
          "model_name": "LayoutModel",
          "state": {
            "_view_name": "LayoutView",
            "grid_template_rows": null,
            "right": null,
            "justify_content": null,
            "_view_module": "@jupyter-widgets/base",
            "overflow": null,
            "_model_module_version": "1.2.0",
            "_view_count": null,
            "flex_flow": null,
            "width": null,
            "min_width": null,
            "border": null,
            "align_items": null,
            "bottom": null,
            "_model_module": "@jupyter-widgets/base",
            "top": null,
            "grid_column": null,
            "overflow_y": null,
            "overflow_x": null,
            "grid_auto_flow": null,
            "grid_area": null,
            "grid_template_columns": null,
            "flex": null,
            "_model_name": "LayoutModel",
            "justify_items": null,
            "grid_row": null,
            "max_height": null,
            "align_content": null,
            "visibility": null,
            "align_self": null,
            "height": null,
            "min_height": null,
            "padding": null,
            "grid_auto_rows": null,
            "grid_gap": null,
            "max_width": null,
            "order": null,
            "_view_module_version": "1.2.0",
            "grid_template_areas": null,
            "object_position": null,
            "object_fit": null,
            "grid_auto_columns": null,
            "margin": null,
            "display": null,
            "left": null
          }
        }
      }
    }
  },
  "cells": [
    {
      "cell_type": "markdown",
      "metadata": {
        "id": "view-in-github",
        "colab_type": "text"
      },
      "source": [
        "<a href=\"https://colab.research.google.com/github/beknur/NLP/blob/master/HypernymTitles.ipynb\" target=\"_parent\"><img src=\"https://colab.research.google.com/assets/colab-badge.svg\" alt=\"Open In Colab\"/></a>"
      ]
    },
    {
      "cell_type": "markdown",
      "metadata": {
        "id": "hMo3kj3LC3rA",
        "colab_type": "text"
      },
      "source": [
        "#### Lab 7 \n",
        "#### Rouge Metrics"
      ]
    },
    {
      "cell_type": "code",
      "metadata": {
        "id": "4nnPP3dWKa5Y",
        "colab_type": "code",
        "colab": {
          "base_uri": "https://localhost:8080/",
          "height": 34
        },
        "outputId": "43aaca53-b76b-406d-d0aa-7508daf081c5"
      },
      "source": [
        "pip install fuzzywuzzy"
      ],
      "execution_count": 32,
      "outputs": [
        {
          "output_type": "stream",
          "text": [
            "Requirement already satisfied: fuzzywuzzy in /usr/local/lib/python3.6/dist-packages (0.18.0)\n"
          ],
          "name": "stdout"
        }
      ]
    },
    {
      "cell_type": "code",
      "metadata": {
        "id": "obigo_n1C3rB",
        "colab_type": "code",
        "colab": {}
      },
      "source": [
        "import pandas as pd\n",
        "from nltk.corpus import stopwords\n",
        "from nltk.corpus import wordnet as wn\n",
        "import numpy as np\n",
        "from fuzzywuzzy import fuzz \n",
        "import ipywidgets as widgets\n",
        "import pprint\n",
        "from ipywidgets import interact, interact_manual\n",
        "import re\n",
        "__PATH__ = \"data.csv\""
      ],
      "execution_count": 0,
      "outputs": []
    },
    {
      "cell_type": "code",
      "metadata": {
        "id": "4UWQysSWC3rG",
        "colab_type": "code",
        "outputId": "106fc10f-09d3-497a-d67c-6bef1dcf8f71",
        "colab": {
          "base_uri": "https://localhost:8080/",
          "height": 102
        }
      },
      "source": [
        "import nltk\n",
        "nltk.download('stopwords')\n",
        "nltk.download('wordnet')"
      ],
      "execution_count": 41,
      "outputs": [
        {
          "output_type": "stream",
          "text": [
            "[nltk_data] Downloading package stopwords to /root/nltk_data...\n",
            "[nltk_data]   Package stopwords is already up-to-date!\n",
            "[nltk_data] Downloading package wordnet to /root/nltk_data...\n",
            "[nltk_data]   Package wordnet is already up-to-date!\n"
          ],
          "name": "stdout"
        },
        {
          "output_type": "execute_result",
          "data": {
            "text/plain": [
              "True"
            ]
          },
          "metadata": {
            "tags": []
          },
          "execution_count": 41
        }
      ]
    },
    {
      "cell_type": "code",
      "metadata": {
        "scrolled": true,
        "id": "qg2mYAm3C3rI",
        "colab_type": "code",
        "colab": {
          "base_uri": "https://localhost:8080/",
          "height": 1000
        },
        "outputId": "19065bd2-c262-484f-dfca-77c4a6a28e92"
      },
      "source": [
        "df = pd.read_csv(__PATH__,sep=\";\",header=0)\n",
        "df"
      ],
      "execution_count": 36,
      "outputs": [
        {
          "output_type": "execute_result",
          "data": {
            "text/html": [
              "<div>\n",
              "<style scoped>\n",
              "    .dataframe tbody tr th:only-of-type {\n",
              "        vertical-align: middle;\n",
              "    }\n",
              "\n",
              "    .dataframe tbody tr th {\n",
              "        vertical-align: top;\n",
              "    }\n",
              "\n",
              "    .dataframe thead th {\n",
              "        text-align: right;\n",
              "    }\n",
              "</style>\n",
              "<table border=\"1\" class=\"dataframe\">\n",
              "  <thead>\n",
              "    <tr style=\"text-align: right;\">\n",
              "      <th></th>\n",
              "      <th>id</th>\n",
              "      <th>updatedDate</th>\n",
              "      <th>publishedDate</th>\n",
              "      <th>title</th>\n",
              "      <th>summary</th>\n",
              "      <th>authors</th>\n",
              "      <th>category</th>\n",
              "      <th>metaData</th>\n",
              "      <th>downloadLink</th>\n",
              "      <th>filePath</th>\n",
              "    </tr>\n",
              "  </thead>\n",
              "  <tbody>\n",
              "    <tr>\n",
              "      <th>0</th>\n",
              "      <td>http://arxiv.org/abs/1407.6950v1</td>\n",
              "      <td>2014-07-24T16:56:39Z</td>\n",
              "      <td>2014-07-24T16:56:39Z</td>\n",
              "      <td>How,whenAndHowMuchACardDeckIsWellShuffled.pdf</td>\n",
              "      <td>The Thesis Consider The Mixing Of Few  3 4  ...</td>\n",
              "      <td>Benjamin Isac Fargion</td>\n",
              "      <td>cs.DM</td>\n",
              "      <td>Italian Thesis In Engeenering Computer, 26 Feb...</td>\n",
              "      <td>http://arxiv.org/pdf/1407.6950v1.pdf</td>\n",
              "      <td>./files/How,whenAndHowMuchACardDeckIsWellShuff...</td>\n",
              "    </tr>\n",
              "    <tr>\n",
              "      <th>1</th>\n",
              "      <td>http://arxiv.org/abs/0907.0618v1</td>\n",
              "      <td>2009-07-03T12:35:10Z</td>\n",
              "      <td>2009-07-03T12:35:10Z</td>\n",
              "      <td>QuantumIsometryGroups.pdf</td>\n",
              "      <td>This Thesis Contains The Formulation And Com...</td>\n",
              "      <td>Jyotishman Bhowmick</td>\n",
              "      <td>math.OA</td>\n",
              "      <td>Thesis</td>\n",
              "      <td>http://arxiv.org/pdf/0907.0618v1.pdf</td>\n",
              "      <td>./files/QuantumIsometryGroups.pdf</td>\n",
              "    </tr>\n",
              "    <tr>\n",
              "      <th>2</th>\n",
              "      <td>http://arxiv.org/abs/1806.09601v2</td>\n",
              "      <td>2018-07-14T17:06:27Z</td>\n",
              "      <td>2018-06-25T17:55:59Z</td>\n",
              "      <td>ComputationAndBoundingOfFolkmanNumbers.pdf</td>\n",
              "      <td>Phd Thesis Under The Supervision Of Professo...</td>\n",
              "      <td>Aleksandar Bikov</td>\n",
              "      <td>math.CO</td>\n",
              "      <td>PhD Thesis</td>\n",
              "      <td>http://arxiv.org/pdf/1806.09601v2.pdf</td>\n",
              "      <td>./files/ComputationAndBoundingOfFolkmanNumbers...</td>\n",
              "    </tr>\n",
              "    <tr>\n",
              "      <th>3</th>\n",
              "      <td>http://arxiv.org/abs/1905.03014v1</td>\n",
              "      <td>2019-05-08T11:47:34Z</td>\n",
              "      <td>2019-05-08T11:47:34Z</td>\n",
              "      <td>OnChurch'sThesisInCubicalAssemblies.pdf</td>\n",
              "      <td>We Show That Church's Thesis, The Axiom Stat...</td>\n",
              "      <td>Andrew Swan, Taichi Uemura,</td>\n",
              "      <td>math.LO</td>\n",
              "      <td>0</td>\n",
              "      <td>http://arxiv.org/pdf/1905.03014v1.pdf</td>\n",
              "      <td>./files/OnChurch'sThesisInCubicalAssemblies.pdf</td>\n",
              "    </tr>\n",
              "    <tr>\n",
              "      <th>4</th>\n",
              "      <td>http://arxiv.org/abs/1901.04911v1</td>\n",
              "      <td>2019-01-15T16:24:07Z</td>\n",
              "      <td>2019-01-15T16:24:07Z</td>\n",
              "      <td>UnconstrainedChurchTuringThesisCannotPossiblyB...</td>\n",
              "      <td>The Church Turing Thesis Asserts That If A P...</td>\n",
              "      <td>Yuri Gurevich</td>\n",
              "      <td>cs.LO</td>\n",
              "      <td>0</td>\n",
              "      <td>http://arxiv.org/pdf/1901.04911v1.pdf</td>\n",
              "      <td>./files/UnconstrainedChurchTuringThesisCannotP...</td>\n",
              "    </tr>\n",
              "    <tr>\n",
              "      <th>...</th>\n",
              "      <td>...</td>\n",
              "      <td>...</td>\n",
              "      <td>...</td>\n",
              "      <td>...</td>\n",
              "      <td>...</td>\n",
              "      <td>...</td>\n",
              "      <td>...</td>\n",
              "      <td>...</td>\n",
              "      <td>...</td>\n",
              "      <td>...</td>\n",
              "    </tr>\n",
              "    <tr>\n",
              "      <th>991</th>\n",
              "      <td>http://arxiv.org/abs/0709.0497v1</td>\n",
              "      <td>2007-09-04T18:40:50Z</td>\n",
              "      <td>2007-09-04T18:40:50Z</td>\n",
              "      <td>HardSpectatorInteractionsInBToPiPiAtOrderAlpha...</td>\n",
              "      <td>In The Present Thesis I Discuss The Hard Spe...</td>\n",
              "      <td>Volker Pilipp</td>\n",
              "      <td>hep-ph</td>\n",
              "      <td>PhD thesis</td>\n",
              "      <td>http://arxiv.org/pdf/0709.0497v1.pdf</td>\n",
              "      <td>./files/HardSpectatorInteractionsInBToPiPiAtOr...</td>\n",
              "    </tr>\n",
              "    <tr>\n",
              "      <th>992</th>\n",
              "      <td>http://arxiv.org/abs/0709.2936v1</td>\n",
              "      <td>2007-09-18T23:56:17Z</td>\n",
              "      <td>2007-09-18T23:56:17Z</td>\n",
              "      <td>BayesianClassificationAndRegressionWithHighDim...</td>\n",
              "      <td>This Thesis Responds To The Challenges Of Us...</td>\n",
              "      <td>Longhai Li</td>\n",
              "      <td>stat.ML</td>\n",
              "      <td>PhD Thesis Submitted to University of Toronto,...</td>\n",
              "      <td>http://arxiv.org/pdf/0709.2936v1.pdf</td>\n",
              "      <td>./files/BayesianClassificationAndRegressionWit...</td>\n",
              "    </tr>\n",
              "    <tr>\n",
              "      <th>993</th>\n",
              "      <td>http://arxiv.org/abs/0710.1790v1</td>\n",
              "      <td>2007-10-09T15:20:08Z</td>\n",
              "      <td>2007-10-09T15:20:08Z</td>\n",
              "      <td>StaticAndDynamicPropertiesOfHadronicSystemsWit...</td>\n",
              "      <td>This Thesis Has Been Devoted To The Study Of...</td>\n",
              "      <td>J. M. Verde-Velasco</td>\n",
              "      <td>hep-ph</td>\n",
              "      <td>PhD thesis, Supervisors: E. Hernandez, J. Niev...</td>\n",
              "      <td>http://arxiv.org/pdf/0710.1790v1.pdf</td>\n",
              "      <td>./files/StaticAndDynamicPropertiesOfHadronicSy...</td>\n",
              "    </tr>\n",
              "    <tr>\n",
              "      <th>994</th>\n",
              "      <td>http://arxiv.org/abs/0711.0873v2</td>\n",
              "      <td>2007-11-11T19:21:04Z</td>\n",
              "      <td>2007-11-06T14:13:50Z</td>\n",
              "      <td>AConformalApproachToNumericalCalculationsOfAsy...</td>\n",
              "      <td>This Thesis Is Concerned With The Developmen...</td>\n",
              "      <td>Anıl Zenginoğlu</td>\n",
              "      <td>gr-qc</td>\n",
              "      <td>PhD thesis, Max-Planck Institute for Gravitati...</td>\n",
              "      <td>http://arxiv.org/pdf/0711.0873v2.pdf</td>\n",
              "      <td>./files/AConformalApproachToNumericalCalculati...</td>\n",
              "    </tr>\n",
              "    <tr>\n",
              "      <th>995</th>\n",
              "      <td>http://arxiv.org/abs/0801.2858v1</td>\n",
              "      <td>2008-01-18T11:50:32Z</td>\n",
              "      <td>2008-01-18T11:50:32Z</td>\n",
              "      <td>TheoreticalAnalysisOfOptimizationProblemsSomeP...</td>\n",
              "      <td>This Thesis Is Divided In Two Parts. The Fir...</td>\n",
              "      <td>Fabrizio Altarelli</td>\n",
              "      <td>cond-mat.stat-mech</td>\n",
              "      <td>Ph.D. thesis, 132 pages</td>\n",
              "      <td>http://arxiv.org/pdf/0801.2858v1.pdf</td>\n",
              "      <td>./files/TheoreticalAnalysisOfOptimizationProbl...</td>\n",
              "    </tr>\n",
              "  </tbody>\n",
              "</table>\n",
              "<p>996 rows × 10 columns</p>\n",
              "</div>"
            ],
            "text/plain": [
              "                                    id  ...                                           filePath\n",
              "0     http://arxiv.org/abs/1407.6950v1  ...  ./files/How,whenAndHowMuchACardDeckIsWellShuff...\n",
              "1     http://arxiv.org/abs/0907.0618v1  ...                  ./files/QuantumIsometryGroups.pdf\n",
              "2    http://arxiv.org/abs/1806.09601v2  ...  ./files/ComputationAndBoundingOfFolkmanNumbers...\n",
              "3    http://arxiv.org/abs/1905.03014v1  ...    ./files/OnChurch'sThesisInCubicalAssemblies.pdf\n",
              "4    http://arxiv.org/abs/1901.04911v1  ...  ./files/UnconstrainedChurchTuringThesisCannotP...\n",
              "..                                 ...  ...                                                ...\n",
              "991   http://arxiv.org/abs/0709.0497v1  ...  ./files/HardSpectatorInteractionsInBToPiPiAtOr...\n",
              "992   http://arxiv.org/abs/0709.2936v1  ...  ./files/BayesianClassificationAndRegressionWit...\n",
              "993   http://arxiv.org/abs/0710.1790v1  ...  ./files/StaticAndDynamicPropertiesOfHadronicSy...\n",
              "994   http://arxiv.org/abs/0711.0873v2  ...  ./files/AConformalApproachToNumericalCalculati...\n",
              "995   http://arxiv.org/abs/0801.2858v1  ...  ./files/TheoreticalAnalysisOfOptimizationProbl...\n",
              "\n",
              "[996 rows x 10 columns]"
            ]
          },
          "metadata": {
            "tags": []
          },
          "execution_count": 36
        }
      ]
    },
    {
      "cell_type": "markdown",
      "metadata": {
        "id": "XG1xtU4xC3rK",
        "colab_type": "text"
      },
      "source": [
        "#### Preprocessing the title to list of tokens"
      ]
    },
    {
      "cell_type": "code",
      "metadata": {
        "id": "iRgalGvEC3rL",
        "colab_type": "code",
        "colab": {}
      },
      "source": [
        "titles = list(df['title'].apply(\n",
        "    lambda t : \n",
        "        tuple(\n",
        "            filter(lambda e:not e in stopwords.words('english'),\n",
        "                map(lambda e:e.lower(),\n",
        "                       re.findall('([A-Z]{1}[a-z]+)',t.replace('.pdf','')))\n",
        "                )\n",
        "            )\n",
        "        )\n",
        "    )"
      ],
      "execution_count": 0,
      "outputs": []
    },
    {
      "cell_type": "code",
      "metadata": {
        "id": "ojN89e-cC3rN",
        "colab_type": "code",
        "colab": {}
      },
      "source": [
        "res = {}\n",
        "for title in titles:\n",
        "    synsets = {}\n",
        "    for word in title:\n",
        "        synsets[word]=[synset for synset in wn.synsets(word)]\n",
        "    res[title] = synsets"
      ],
      "execution_count": 0,
      "outputs": []
    },
    {
      "cell_type": "code",
      "metadata": {
        "id": "YsBev1EcC3rP",
        "colab_type": "code",
        "colab": {}
      },
      "source": [
        "def get_hyperonyms(token):\n",
        "    hyperonyms = {}\n",
        "    for word in token:\n",
        "        hyperonyms_ = []\n",
        "        for synset in wn.synsets(word):\n",
        "            hyperonyms_.extend(synset.hypernyms())\n",
        "        hyperonyms[word] = set(hyperonyms_)\n",
        "    return hyperonyms\n",
        "\n",
        "def get_fscore_and_intr(a, b):\n",
        "    intr = a.intersection(b)\n",
        "    if len(intr) == 0:\n",
        "        return 0, intr\n",
        "    \n",
        "    recall = len(intr) / len(a)\n",
        "    prec = len(intr) / len(b)\n",
        "    score = 2*recall*prec/(recall+prec)\n",
        "    return score, intr\n",
        "\n",
        "def distance(a,b):\n",
        "    ### Put your code here\n",
        "    ### В переменной synsets помимо нормализованного заголовка хранятся синсеты для каждого токена из заголовка.\n",
        "    ### у синсетов есть гиперонимы про то как из брать здесь\n",
        "    ### Если у токенов заголовков есть общие гиперонимы тогда заголовки связаны несмотря на то что слова разные\n",
        "    a = set(a)\n",
        "    b = set(b)\n",
        "    \n",
        "    fscore, intr = get_f1_and_intr(a, b)\n",
        "    \n",
        "    a = a - intr\n",
        "    b = b - intr\n",
        "    \n",
        "    if len(a) == 0 or len(b) == 0:\n",
        "        return 1.0 - fscore\n",
        "    \n",
        "    buff_a = get_hyperonyms(a)\n",
        "    buff_b = get_hyperonyms(b)\n",
        "    \n",
        "    hyperonym_p = 0\n",
        "    hyperonym_2nd = set()\n",
        "    for word_a in a:\n",
        "        for word_b in b:\n",
        "            common_hyps = buff_a[word_a].intersection(buff_b[word_b])\n",
        "            if len(common_hyps) > 0:\n",
        "                hyperonym_p += 1\n",
        "                strs = []\n",
        "                for s in common_hyps:\n",
        "                    strs.extend(s.lemma_names())\n",
        "                hyperonym_2nd.update(strs)\n",
        "    \n",
        "    if len(hyperonym_2nd) > 0:\n",
        "        buff_hyperonym_2nd = get_hyperonyms(hyperonym_2nd)\n",
        "        for h in hyperonym_2nd:\n",
        "            for word_a in a:\n",
        "                a_common_hyps = buff_hyperonym_2nd[h].intersection(buff_a[word_a])\n",
        "                if len(a_common_hyps) > 0:\n",
        "                    hyperonym_p += 0.5\n",
        "            \n",
        "            for word_b in b:\n",
        "                hyperonym_com_b = buff_hyperonym_2nd[h].intersection(buff_b[word_b])\n",
        "                if len(hyperonym_com_b) > 0:\n",
        "                    hyperonym_p += 0.5\n",
        "                \n",
        "    fscore_hyp = 2*hyperonym_p/len(a)*hyperonym_p/len(b)/(hyperonym_p/len(a)+hyperonym_p/len(b)) if hyperonym_p > 0 else 0\n",
        "    f_res = (2*fscore+fscore_hyp)/3\n",
        "    return (1.0 - f_res)"
      ],
      "execution_count": 0,
      "outputs": []
    },
    {
      "cell_type": "code",
      "metadata": {
        "id": "vWExbfwyPH-n",
        "colab_type": "code",
        "colab": {}
      },
      "source": [
        "buff = list(res.items())\n",
        "dist = np.zeros((len(buff),len(buff)))\n",
        "for lli,ll in enumerate(buff):\n",
        "    for rri,rr in enumerate(buff):\n",
        "        dist[lli,rri]=distance(ll[0],rr[0])"
      ],
      "execution_count": 0,
      "outputs": []
    },
    {
      "cell_type": "markdown",
      "metadata": {
        "id": "sVW9NVFmC3rR",
        "colab_type": "text"
      },
      "source": [
        "#### Top ten closest articles with fuzzy metrics of titles"
      ]
    },
    {
      "cell_type": "code",
      "metadata": {
        "id": "PJfKkP_sC3rS",
        "colab_type": "code",
        "outputId": "9e369486-5f50-4265-a811-a61226a392f7",
        "colab": {
          "base_uri": "https://localhost:8080/",
          "height": 576,
          "referenced_widgets": [
            "4b57f60d383646efbf764261a9802380",
            "1752d02a761c4d07ba850c4f5bbe1321",
            "ffd7cfa9662047aba95218945b591dfb",
            "d6c2f8cbd8ed4a8b9afa8c83a7d7893f",
            "828f2b59ece94474885fef2f549dca10",
            "85ae50ad153d4ffe9cce00d9f594e6e7",
            "8e37e4a46a5f44ca937e5e343ed97ed2"
          ]
        }
      },
      "source": [
        "@interact(ind=(0,len(buff)-1,1))\n",
        "def h(ind=0):\n",
        "    pp = pprint.PrettyPrinter(indent=4)\n",
        "    print(' '.join(buff[ind][0]))\n",
        "    pp.pprint([buff[i][0] for i in dist[ind][:].argsort()[1:11]])\n"
      ],
      "execution_count": 25,
      "outputs": [
        {
          "output_type": "display_data",
          "data": {
            "application/vnd.jupyter.widget-view+json": {
              "model_id": "4b57f60d383646efbf764261a9802380",
              "version_minor": 0,
              "version_major": 2
            },
            "text/plain": [
              "interactive(children=(IntSlider(value=0, description='ind', max=995), Output()), _dom_classes=('widget-interac…"
            ]
          },
          "metadata": {
            "tags": []
          }
        }
      ]
    },
    {
      "cell_type": "code",
      "metadata": {
        "id": "hQ3fW1fSC3rU",
        "colab_type": "code",
        "outputId": "8a245b8b-d6f3-46f0-f1ee-a885eab94a3c",
        "colab": {
          "base_uri": "https://localhost:8080/",
          "height": 950,
          "referenced_widgets": [
            "b5300faa35b6491595ebe580637e9c6d",
            "b73dc1b06311407b8f0dd6acc4b00160",
            "d6eea0e069fd4cc199560873cd4fa27d",
            "64a612e8b8c64a9586575d1b71ed7e18",
            "373bc8f825ca43e3a97fe03d83b345e3",
            "eea4491a54c54172aced178482d5cd15",
            "82a8530a6b8140d882309a45d9981e50"
          ]
        }
      },
      "source": [
        "@interact(ind=(0,len(buff)-1,1))\n",
        "def hypernyms(ind=0):\n",
        "    pp = pprint.PrettyPrinter(indent=4)\n",
        "    print(' '.join(buff[ind][0]))\n",
        "    pp.pprint(buff[ind][1])"
      ],
      "execution_count": 26,
      "outputs": [
        {
          "output_type": "display_data",
          "data": {
            "application/vnd.jupyter.widget-view+json": {
              "model_id": "b5300faa35b6491595ebe580637e9c6d",
              "version_minor": 0,
              "version_major": 2
            },
            "text/plain": [
              "interactive(children=(IntSlider(value=0, description='ind', max=995), Output()), _dom_classes=('widget-interac…"
            ]
          },
          "metadata": {
            "tags": []
          }
        }
      ]
    },
    {
      "cell_type": "code",
      "metadata": {
        "id": "EjyKDbxtC3rW",
        "colab_type": "code",
        "colab": {}
      },
      "source": [
        ""
      ],
      "execution_count": 0,
      "outputs": []
    }
  ]
}